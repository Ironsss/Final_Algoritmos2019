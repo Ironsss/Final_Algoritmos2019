{
 "cells": [
  {
   "cell_type": "code",
   "execution_count": 1,
   "metadata": {},
   "outputs": [],
   "source": [
    "import numpy as np\n",
    "from pylab import*\n",
    "from scipy.integrate import *\n",
    "import pandas as pd\n",
    "from numpy import linalg\n",
    "pd.set_option('max_rows', 5)\n",
    "%matplotlib inline"
   ]
  },
  {
   "cell_type": "markdown",
   "metadata": {},
   "source": [
    "# Funciones utilizadas:"
   ]
  },
  {
   "cell_type": "markdown",
   "metadata": {},
   "source": [
    "## Para encontrar las cuando ocurren y la amplitud de las ondas P, QRS y T.\n",
    "### Para determinar si un punto coorresponde a una onda se encontraron los cuatro datos más grandes que eran mayores a los ```n=10``` numeros anteriores y posteriores a ellos. \n",
    "\n",
    "- Las funciones ```MenorVecinos(lis,n,v)``` y ```MayorVecinos(lis,n,v)``` se utiliza para determinar si en el número en la posición ```n``` de la lista ```lis``` es mayor que los ```v``` números anteriores en el caso de ```MenorVecinos(lis,n,v)``` y posteriores para ```MayorVecinos(lis,n,v)```. \n",
    "\n",
    "<br>\n",
    "\n",
    "- La función ```Pico(lis,n,v)``` aplica las funciones ```MenorVecinos(lis,n,v)``` y ```MayorVecinos(lis,n,v)``` al número ```n``` de la lista ```lis``` para determinar si éste es un máximo local. Si se da el caso en que ```n```-```v```<0 entonces se ajusta el valor de ```v``` en la función ```MenorVecinos(lis,n,v)``` de tal forma que ```n```se compare hasta el index 0. Así mismo si ```n```+```v```>```len(lis)-1``` se ajusta el valor de ```v```en la función ```MayorVecinos(lis,n,v)``` para que el número se compare hasta el número con index ```len(lis)-1```.\n",
    "\n",
    "<br>\n",
    "\n",
    "- La función ```Picos(lis,n,v)``` encontrar a los ```n``` números màs grandes de la lista ```lis```que cumplan con los criterio de la función ```Pico```\n",
    "<br>\n",
    "\n",
    "\n",
    "### Las señales de la base de datos empiezan en complejo QRS, y terminan poco después del siguiente complejo QRS. ya que solo nos intereza lo que pasa entre estas dos ondas, se creó una función que detecta a los dos \"picos\" más grandes, y regresa una lista que contiene los mismos valores para los números que se encuentran entre los dos picos y sustituye al resto por NaN.\n",
    "\n",
    "<br>\n",
    "\n",
    "- La función Cortar(ECG) recibe una lista o un array ```ECG``` y aplica la función Picos(ECG,2,10) para encontrar a las dos complejos QRS y regresar una lista un array que contiene a ECG[0:QRS] , donde QRS es el índice del segundo complejo QRS. Si no se encuentran dos picos, entonces regresa array que contiene 187 NaNs.\n",
    "\n",
    "<br>\n",
    "\n",
    "- La función PicosXY(lisX,lisY,n,v) utiliza a la función Picos(ECG,n,v) con ECG=lisY y regresa los valores donde encuentra los picos en lisY y los valores que le corresponden a lisX.\n",
    "\n",
    "<br>\n",
    "\n",
    "- La función Tiempo(lis) regresa array con los valores de tiempo teniendo en cuenta que los valores de lis fueron tomados a una frecuencia de  150 Hz.\n",
    "\n",
    "<br>\n",
    "\n",
    "- La función ```PicosYT(lisY,n=4,v=10)```regresa los valores de ```PicosXY(lisX,lisY,n,v)```con  ```lisX```=```Tiempo(lis)```.\n",
    "\n",
    "<br>\n",
    "\n",
    "- La función ```PicosYTDF(lisY,n=4,v=10)``` se utiliza para aplicarle a una serie la función ```PicosYT(lisY,n=4,v=10)``` y finalmente es usada por ```PicosDF(ECGS)``` para encontrar los picos de todas las filas de DataFrame ```ECGS```.\n"
   ]
  },
  {
   "cell_type": "code",
   "execution_count": 2,
   "metadata": {},
   "outputs": [],
   "source": [
    "#Si lis es lista/array de números la función dice si el número con index n es mayor que\n",
    "#los n v números anteriores.\n",
    "def MenorVecinos(lis,n,v):\n",
    "    for a in range(v):\n",
    "        a=a+1\n",
    "        if lis[n]<=lis[n-a]:\n",
    "            return(False)\n",
    "    return(True)\n",
    "\n",
    "#Si lis es lista/array de números la función dice si el número con index n es mayor que los n v números posteriores.\n",
    "def MayorVecinos(lis,n,v):\n",
    "    for a in range(v):\n",
    "        a=a+1\n",
    "        if lis[n]<=lis[n+a]:\n",
    "            return(False)\n",
    "    return(True)\n",
    "\n",
    "#Si lis es lista/array de números la función dice si el número con index n es mayor que los n v números anteriores y \n",
    "#los v números posteriores.\n",
    "def Pico(lis,n,v):\n",
    "    vinf=v\n",
    "    vsup=v\n",
    "    if n<v:\n",
    "        vinf=n\n",
    "    if n+v>len(lis)-1:\n",
    "        vsup=len(lis)-n-1\n",
    "    \n",
    "    if MayorVecinos(lis,n,vsup) and MenorVecinos(lis,n,vinf):\n",
    "        return(True)\n",
    "    else:\n",
    "        return(False)\n",
    "    \n",
    "#Si lis es lista/array de números la función regresa el index de  los n números más grandes que cumplen que son\n",
    "# mayores que los v anteriores y los v superiores.\n",
    "#Si n es mayor a la cantidad de números que cumplen esto, solo regresa la cantidad de números que lo cumplen\n",
    "#Hay concideraciones especiales cuando n-v<0 o n+v>len(lis)-1\n",
    "\n",
    "def Picos(lis,n,v): \n",
    "    lis=list(lis)\n",
    "    lis2=list(lis)\n",
    "    X=[]\n",
    "    n0=0\n",
    "    m0=0\n",
    "    while n0<n and m0<len(lis):\n",
    "        Max=np.nanmax(lis2)\n",
    "        if not isnan(Max):       \n",
    "            imaximo=lis2.index(Max)\n",
    "            if Pico(lis,imaximo,v):\n",
    "                X.append(imaximo)\n",
    "                n0=n0+1\n",
    "            lis2[imaximo]=NaN\n",
    "            m0=m0+1\n",
    "        else:\n",
    "            break\n",
    "            \n",
    "    return(np.array(X))\n",
    "\n",
    "#Esta encuentra n máximos locales de lisY (usando criterios de la fun Picos) y regresa una lista con [x1,x2,...,xn]\n",
    "#y la lista de [Y1, Y2,...,Yn] : Xi cumple es máximo local.\n",
    "\n",
    "def PicosXY(lisX,lisY,n,v):\n",
    "    X=[]\n",
    "    Y=[]\n",
    "    picos=Picos(lisY,n,v)\n",
    "    for a in picos:\n",
    "        X.append(lisX[a])\n",
    "        Y.append(lisY[a])\n",
    "    return(X,Y)\n",
    "\n",
    "\n",
    "#Esta función regresa una array con el tiempo del ECG que se le de. La frec de muestreo es 125Hz\n",
    "def Tiempo(lis):\n",
    "    lis=list(lis)\n",
    "    tiempo=np.linspace(0,len(lis)/125,len(lis))\n",
    "    return(tiempo)\n",
    "\n",
    "#Esta función recive un ECG y regresa un array con los valores desde pico R hasta el otro pico R\n",
    "def Cortar(ECG):\n",
    "    picos=Picos(ECG,2,1)\n",
    "    if len(picos)==2:\n",
    "        QRS=max(picos)\n",
    "        return(ECG[0:QRS+1])\n",
    "    else:\n",
    "        return np.array([NaN]*187)\n",
    "\n",
    "#Esta función hace lo mismo que la función picos, pero regresa una lista con los picos y la otra con tiempos.\n",
    "def PicosYT(lisY,n=4,v=10):\n",
    "    X=[]\n",
    "    Y=[]\n",
    "    tiempo=Tiempo(lisY)\n",
    "    picos=PicosXY(tiempo,lisY,n,v)\n",
    "    X=picos[0]\n",
    "    Y=picos[1]\n",
    "    \n",
    "    dic={X[i]: Y[i] for i in range(len(X))}\n",
    "    X.sort()\n",
    "    Y=[]\n",
    "    for a in X:\n",
    "        Y.append(dic[a])\n",
    "    \n",
    "\n",
    "    return(X,Y)\n",
    "    \n",
    "\n",
    "#Grafica los picos\n",
    "def GraficaPicos(ECG,n=4,v=10):\n",
    "    ECGp=Cortar(ECG)\n",
    "    tiempo=Tiempo(ECGp)\n",
    "    X,Y=PicosXY(tiempo,ECGp,n,v)\n",
    "    plot(tiempo,ECGp)\n",
    "    plot(X,Y,\".\")\n",
    "    \n",
    "#Esta función hace lo mismo que PicosYT pero regresa solo una lista con los valores: (V0,T0,V1,T1,V2,T2,V3,T3)\n",
    "def PicosYTDF(lisY,n=4,v=10):\n",
    "    X=[]\n",
    "    Y=[]\n",
    "    tiempo=Tiempo(lisY)\n",
    "    picos=PicosXY(tiempo,lisY,n,v)\n",
    "    X=picos[0]\n",
    "    Y=picos[1]\n",
    "    \n",
    "    dic={X[i]: Y[i] for i in range(len(X))}\n",
    "    X.sort()\n",
    "    Y=[]\n",
    "    for a in X:\n",
    "        Y.append(dic[a])\n",
    "\n",
    "    Z=[]\n",
    "    for a in range(len(X)):\n",
    "        Z.append(X[a])\n",
    "        Z.append(Y[a])\n",
    "    Z=Z+[NaN]*(8-len(Z))\n",
    "    \n",
    "    return(Z)\n",
    "    #return(X,Y)\n",
    "    \n",
    "    \n",
    "#Esta función le aplica a un DF la función PicosYTDF y regresa cada dato en una columna\n",
    "def PicosDF(ECGS):\n",
    "    PICOS=pd.DataFrame()\n",
    "    PICOS=ECGS.apply(PicosYTDF)\n",
    "    PICOS=PICOS.to_frame()\n",
    "    PICOS=pd.DataFrame(PICOS.iloc[:,0].tolist(), columns=[\"t0\",\"v0\",\"t1\",\"v1\",\"t2\",\"v2\",\"t3\",\"v3\"])\n",
    "    #pd.concat([PICOS[:], pd.Series([0,1,2,3,4,5,6,7])], axis=1)\n",
    "    #PICOS=PICOS.to_frame()\n",
    "    #PICOS=ECGS.apply(lambda x:PicosYTDF(x), axis=1, result_type='expand')\n",
    "    return(PICOS)\n",
    "\n"
   ]
  },
  {
   "cell_type": "markdown",
   "metadata": {},
   "source": [
    "### Se realizó una función que le ajusta un polinomio de grado n a los ECGS para determinar si se pueden utiilizar como variables para clasificarlos:\n",
    "\n",
    "<br>\n",
    "\n",
    "- La función ```polifit(X,Y,n)``` regresa una lista \n",
    " [$ \\beta_0 , \\beta_1 ,..., \\beta_n  $] dónde $P_n = \\beta_0 + \\beta_1 x + \\beta_2 x^2 +..+ \\beta_n x^n$ es el polinomio de grado $n$ que mejor se ajusta al conjunto de de pares ordenados de las lis ```X```y ```Y```\n",
    " <br>\n",
    " \n",
    " -La función ```Betas(ECG,n=15)``` recibe una lista, array o serie ```ECG``` le quita todos los valores ```NaN``` y regresa el resultado de la función ```polifit(X,Y,n)``` con ```X```=```ECG```y ```Y```=```Tiempo(ECG)```.\n",
    " <br>\n",
    " \n",
    " -La función ```BetasDF(DF)``` le aplica la función ```Betas(ECG,n=15)``` a cada fila del DataFrame ```DF``` y en vez de regresar una lista, regresa cada $\\beta$ en una columna. Ya que es probable que ```DF```tenga valores ```NaN``` se creó la función QuitaNan, la cual le quita a cada fila de ```DF```los valores ```NaN```antes de aplicar la funcion ```Betas```\n"
   ]
  },
  {
   "cell_type": "code",
   "execution_count": 3,
   "metadata": {},
   "outputs": [],
   "source": [
    "#Esta función es para quitar los valores NaN de una señalm regresa una señal más corta pero\n",
    "#sin NaN s.\n",
    "def QuitaNan(V):\n",
    "    lenV=len(V)\n",
    "    for a in range(lenV):\n",
    "        if np.isnan(V[a]):\n",
    "            n=a\n",
    "            break\n",
    "        elif a==lenV-1:\n",
    "            n=a\n",
    "    if n==0:\n",
    "        for b in range(len(V)):\n",
    "            V[b]=0\n",
    "        return(V)\n",
    "    else:    \n",
    "        V=V[:n]\n",
    "        return(V)\n",
    "\n",
    "#Esta función le ajusta a un conjunto de datos X y Y un polinomio de grado n y regresa una\n",
    "#lista [b0,b1,...,bn] tal que el poli que mejor se ajusta es b0+b1 x+b2 x^2 +...+bn x^n\n",
    "\n",
    "def polifit(X,Y,n):\n",
    "    Xm=[]\n",
    "    #for a in range(1,n+2):\n",
    "    for x in X:    \n",
    "        Xv=[1]\n",
    "        for a in range(1,n+1):\n",
    "        #for x in X:\n",
    "            Xv.append(x**a)\n",
    "        Xm.append(Xv)\n",
    "    Xm=matrix(Xm)\n",
    "    Yv=matrix(Y)\n",
    "    Yv=Yv.transpose()\n",
    "    return((linalg.inv(Xm.transpose()*Xm)*Xm.transpose()*Yv).transpose().tolist()[0])\n",
    "\n",
    "#Esta función aplica la función polifit a (Tiempos(ECG),ECG) donde ECG puede ser una serie.\n",
    "def Betas(ECG,n=15):\n",
    "    ECG=list(ECG)\n",
    "    Y=QuitaNan(ECG)\n",
    "    X=Tiempo(Y)\n",
    "    return(polifit(X,Y,n))\n",
    "#Esta función le realiza polifit a los renglones de un DF. Regresa una serie\n",
    "def BetasDF(DF):\n",
    "    BETAS=DF.apply(Betas,axis=1,result_type='expand')\n",
    "    return(BETAS)"
   ]
  },
  {
   "cell_type": "markdown",
   "metadata": {},
   "source": [
    "## Primero extraemos la base de datos \"mitbih_train.csv\"\n",
    " ESGS es un DataFrame sin header que contiene a los datos de entrenamiento."
   ]
  },
  {
   "cell_type": "code",
   "execution_count": 4,
   "metadata": {},
   "outputs": [],
   "source": [
    "ECGS=pd.read_csv(\"mitbih_train.csv\",header=None)"
   ]
  },
  {
   "cell_type": "markdown",
   "metadata": {},
   "source": [
    "### Posteriormente se iguala a 0 el dato que cooresponde a la clasificación de latido para que no interfiera en la función cortar, ya que esta encuentra máximos."
   ]
  },
  {
   "cell_type": "code",
   "execution_count": 5,
   "metadata": {},
   "outputs": [],
   "source": [
    "for a in range(len(ECGS)):\n",
    "    ECGS.iloc[a][187]=0"
   ]
  },
  {
   "cell_type": "markdown",
   "metadata": {},
   "source": [
    "## Se aplica la función cortar a toda la base de datos y se guarda el DF en la variable ECGSC.\n",
    "Para que cada fila del DF tenga la misma cantidad de números, los valores que se quitaron de la base original por estar después del segundo pico se convierten en NaNs.\n"
   ]
  },
  {
   "cell_type": "code",
   "execution_count": 6,
   "metadata": {
    "scrolled": true
   },
   "outputs": [],
   "source": [
    "# Se usa axis=1 para que la función Cortar se aplique a las filas y no a las columnas\n",
    "ECGSC=ECGS.apply(Cortar,axis=1)"
   ]
  },
  {
   "cell_type": "markdown",
   "metadata": {},
   "source": [
    "### Posteriormente aplica ```BetasDF(DF)``` con ```DF```=```ECGSC``` y  se guarda en la variable ```BETAS``` para ser posteriormente guardada como un archivo csv llamado \"BetasTrain.csv\""
   ]
  },
  {
   "cell_type": "code",
   "execution_count": 7,
   "metadata": {},
   "outputs": [],
   "source": [
    "BETAS=pd.DataFrame(BetasDF(ECGSC))"
   ]
  },
  {
   "cell_type": "code",
   "execution_count": null,
   "metadata": {},
   "outputs": [],
   "source": [
    "BETAS.to_csv(\"BetasTrain.csv\")"
   ]
  },
  {
   "cell_type": "code",
   "execution_count": null,
   "metadata": {},
   "outputs": [],
   "source": []
  },
  {
   "cell_type": "markdown",
   "metadata": {},
   "source": [
    "# Esta sección pretende utilizarse en un futuro para encontrar a las ondas P, QRS y T"
   ]
  },
  {
   "cell_type": "markdown",
   "metadata": {},
   "source": [
    "#### La siguiente función aplica el método de media movil a una lista con la finalidad filtrar el \"ruido\" de alta grecuencia."
   ]
  },
  {
   "cell_type": "code",
   "execution_count": 1,
   "metadata": {},
   "outputs": [],
   "source": [
    "#Esta función aplica método media rodante a una lista, v es el parámetro de vecindad.\n",
    "def Roll(lis,v): \n",
    "    lis=list(lis)\n",
    "    lisZ=[]\n",
    "    \n",
    "    a=0\n",
    "    while a<len(lis):\n",
    "        if a<v:\n",
    "            lisZ.append(lis[a])\n",
    "        elif a+v>len(lis):\n",
    "            lisZ.append(lis[a])\n",
    "        else:\n",
    "            lis2=[]\n",
    "            \n",
    "            for b in lis[a-v:a+v+1]:\n",
    "                lis2.append(b)\n",
    "            lisZ.append(mean(lis2))\n",
    "        a=a+1\n",
    "    return(lisZ)"
   ]
  },
  {
   "cell_type": "code",
   "execution_count": null,
   "metadata": {
    "scrolled": true
   },
   "outputs": [],
   "source": [
    "SECGSC=ECGSC.apply(Roll,axis=1,v=(2))"
   ]
  },
  {
   "cell_type": "markdown",
   "metadata": {},
   "source": [
    "### Finlmente se guarda en la variable ```PICOS ``` los valores de tiempo y de amplitud de dónde se encontraron picos."
   ]
  },
  {
   "cell_type": "code",
   "execution_count": null,
   "metadata": {
    "scrolled": false
   },
   "outputs": [],
   "source": [
    "PICOS=PicosDF(SECGSC)"
   ]
  }
 ],
 "metadata": {
  "kernelspec": {
   "display_name": "Python 3",
   "language": "python",
   "name": "python3"
  },
  "language_info": {
   "codemirror_mode": {
    "name": "ipython",
    "version": 3
   },
   "file_extension": ".py",
   "mimetype": "text/x-python",
   "name": "python",
   "nbconvert_exporter": "python",
   "pygments_lexer": "ipython3",
   "version": "3.5.2"
  }
 },
 "nbformat": 4,
 "nbformat_minor": 2
}
